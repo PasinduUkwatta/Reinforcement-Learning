{
  "nbformat": 4,
  "nbformat_minor": 0,
  "metadata": {
    "colab": {
      "name": "RL_CNN_Colour_Image_Classfication.ipynb",
      "provenance": []
    },
    "kernelspec": {
      "name": "python3",
      "display_name": "Python 3"
    },
    "language_info": {
      "name": "python"
    }
  },
  "cells": [
    {
      "cell_type": "code",
      "metadata": {
        "id": "Fa0xQgiEYA6R"
      },
      "source": [
        "import pandas as pd\n",
        "import numpy as np\n",
        "import matplotlib.pyplot as plt\n",
        "\n",
        "%matplotlib inline"
      ],
      "execution_count": 1,
      "outputs": []
    },
    {
      "cell_type": "code",
      "metadata": {
        "id": "cQtNyzDeYrkd"
      },
      "source": [
        "from tensorflow.keras.datasets import cifar10\n",
        "(X_train,y_train),(X_test,y_test) =cifar10.load_data()"
      ],
      "execution_count": 2,
      "outputs": []
    },
    {
      "cell_type": "code",
      "metadata": {
        "colab": {
          "base_uri": "https://localhost:8080/"
        },
        "id": "qRfqJbj4Y6ti",
        "outputId": "7b476cd3-7247-4037-d85b-44346aadf96d"
      },
      "source": [
        "X_train.shape\n"
      ],
      "execution_count": 3,
      "outputs": [
        {
          "output_type": "execute_result",
          "data": {
            "text/plain": [
              "(50000, 32, 32, 3)"
            ]
          },
          "metadata": {},
          "execution_count": 3
        }
      ]
    },
    {
      "cell_type": "code",
      "metadata": {
        "colab": {
          "base_uri": "https://localhost:8080/"
        },
        "id": "1gN6a00oc4qJ",
        "outputId": "c88e199a-ff5b-4b96-a83b-56f96cc72a33"
      },
      "source": [
        "50000/32"
      ],
      "execution_count": 4,
      "outputs": [
        {
          "output_type": "execute_result",
          "data": {
            "text/plain": [
              "1562.5"
            ]
          },
          "metadata": {},
          "execution_count": 4
        }
      ]
    },
    {
      "cell_type": "code",
      "metadata": {
        "colab": {
          "base_uri": "https://localhost:8080/",
          "height": 283
        },
        "id": "b7alpp9JZFXl",
        "outputId": "40769c9e-62f2-4af6-8fbe-0986a1371022"
      },
      "source": [
        "plt.imshow(X_train[12])"
      ],
      "execution_count": 5,
      "outputs": [
        {
          "output_type": "execute_result",
          "data": {
            "text/plain": [
              "<matplotlib.image.AxesImage at 0x7f4b7f739910>"
            ]
          },
          "metadata": {},
          "execution_count": 5
        },
        {
          "output_type": "display_data",
          "data": {
            "image/png": "[encoded data removed]",
            "text/plain": [
              "<Figure size 432x288 with 1 Axes>"
            ]
          },
          "metadata": {
            "needs_background": "light"
          }
        }
      ]
    },
    {
      "cell_type": "code",
      "metadata": {
        "colab": {
          "base_uri": "https://localhost:8080/"
        },
        "id": "6EeVXFY2ZMfR",
        "outputId": "4be1d587-1840-46da-c018-b79849314270"
      },
      "source": [
        "X_train[0].max,X_train[0].min"
      ],
      "execution_count": 6,
      "outputs": [
        {
          "output_type": "execute_result",
          "data": {
            "text/plain": [
              "(<function ndarray.max>, <function ndarray.min>)"
            ]
          },
          "metadata": {},
          "execution_count": 6
        }
      ]
    },
    {
      "cell_type": "code",
      "metadata": {
        "id": "VNNGYOJRZZSP"
      },
      "source": [
        "X_train=X_train/255\n",
        "X_test=X_test/255"
      ],
      "execution_count": 7,
      "outputs": []
    },
    {
      "cell_type": "code",
      "metadata": {
        "colab": {
          "base_uri": "https://localhost:8080/"
        },
        "id": "zuArGMCucTnz",
        "outputId": "1d17aab5-a79d-450e-c5d3-92ae26317acf"
      },
      "source": [
        "X_train.shape"
      ],
      "execution_count": 8,
      "outputs": [
        {
          "output_type": "execute_result",
          "data": {
            "text/plain": [
              "(50000, 32, 32, 3)"
            ]
          },
          "metadata": {},
          "execution_count": 8
        }
      ]
    },
    {
      "cell_type": "code",
      "metadata": {
        "colab": {
          "base_uri": "https://localhost:8080/"
        },
        "id": "vnS0VqVgZicM",
        "outputId": "4ba94a84-e390-4d00-bfd8-7c14a83db8a4"
      },
      "source": [
        "y_train"
      ],
      "execution_count": 9,
      "outputs": [
        {
          "output_type": "execute_result",
          "data": {
            "text/plain": [
              "array([[6],\n",
              "       [9],\n",
              "       [9],\n",
              "       ...,\n",
              "       [9],\n",
              "       [1],\n",
              "       [1]], dtype=uint8)"
            ]
          },
          "metadata": {},
          "execution_count": 9
        }
      ]
    },
    {
      "cell_type": "code",
      "metadata": {
        "id": "dOOvJMxkZmFs"
      },
      "source": [
        "from tensorflow.keras.utils import to_categorical\n",
        "y_cat_train=to_categorical(y_train,10)\n",
        "y_cat_test=to_categorical(y_test,10)"
      ],
      "execution_count": 10,
      "outputs": []
    },
    {
      "cell_type": "code",
      "metadata": {
        "colab": {
          "base_uri": "https://localhost:8080/"
        },
        "id": "CSuDGF8JZ2BO",
        "outputId": "bec7f5b1-3da0-4d45-ece9-b4b860d587f4"
      },
      "source": [
        "y_cat_test"
      ],
      "execution_count": 11,
      "outputs": [
        {
          "output_type": "execute_result",
          "data": {
            "text/plain": [
              "array([[0., 0., 0., ..., 0., 0., 0.],\n",
              "       [0., 0., 0., ..., 0., 1., 0.],\n",
              "       [0., 0., 0., ..., 0., 1., 0.],\n",
              "       ...,\n",
              "       [0., 0., 0., ..., 0., 0., 0.],\n",
              "       [0., 1., 0., ..., 0., 0., 0.],\n",
              "       [0., 0., 0., ..., 1., 0., 0.]], dtype=float32)"
            ]
          },
          "metadata": {},
          "execution_count": 11
        }
      ]
    },
    {
      "cell_type": "code",
      "metadata": {
        "id": "S-nHmUpjaUCs"
      },
      "source": [
        "from tensorflow.keras.models import Sequential\n",
        "from tensorflow.keras.layers import Dense,Conv2D,MaxPool2D,Flatten\n",
        "\n",
        "model =Sequential()\n",
        "model.add(Conv2D(filters=32,kernel_size=(4,4),input_shape=(32,32,3),activation=\"relu\"))\n",
        "model.add(MaxPool2D(pool_size=(2,2)))\n",
        "\n",
        "model.add(Conv2D(filters=32,kernel_size=(4,4),input_shape=(32,32,3),activation=\"relu\"))\n",
        "model.add(MaxPool2D(pool_size=(2,2)))\n",
        "\n",
        "model.add(Flatten())\n",
        "model.add(Dense(256,activation=\"relu\"))\n",
        "\n",
        "#output layer -softmax-->multiclass classifcation\n",
        "model.add(Dense(10,activation=\"softmax\"))\n",
        "\n",
        "model.compile(loss=\"categorical_crossentropy\",\n",
        "              optimizer=\"adam\",\n",
        "              metrics=[\"accuracy\"])"
      ],
      "execution_count": 12,
      "outputs": []
    },
    {
      "cell_type": "code",
      "metadata": {
        "colab": {
          "base_uri": "https://localhost:8080/"
        },
        "id": "IN9a4Kibb3sb",
        "outputId": "e3ab4099-fd5e-4b60-c889-456e46e168bb"
      },
      "source": [
        "model.summary()"
      ],
      "execution_count": 13,
      "outputs": [
        {
          "output_type": "stream",
          "name": "stdout",
          "text": [
            "Model: \"sequential\"\n",
            "_________________________________________________________________\n",
            "Layer (type)                 Output Shape              Param #   \n",
            "=================================================================\n",
            "conv2d (Conv2D)              (None, 29, 29, 32)        1568      \n",
            "_________________________________________________________________\n",
            "max_pooling2d (MaxPooling2D) (None, 14, 14, 32)        0         \n",
            "_________________________________________________________________\n",
            "conv2d_1 (Conv2D)            (None, 11, 11, 32)        16416     \n",
            "_________________________________________________________________\n",
            "max_pooling2d_1 (MaxPooling2 (None, 5, 5, 32)          0         \n",
            "_________________________________________________________________\n",
            "flatten (Flatten)            (None, 800)               0         \n",
            "_________________________________________________________________\n",
            "dense (Dense)                (None, 256)               205056    \n",
            "_________________________________________________________________\n",
            "dense_1 (Dense)              (None, 10)                2570      \n",
            "=================================================================\n",
            "Total params: 225,610\n",
            "Trainable params: 225,610\n",
            "Non-trainable params: 0\n",
            "_________________________________________________________________\n"
          ]
        }
      ]
    },
    {
      "cell_type": "code",
      "metadata": {
        "id": "NO-EAmjIbHgj"
      },
      "source": [
        "from tensorflow.keras.callbacks import EarlyStopping\n",
        "early_stop =EarlyStopping(monitor=\"val_loss\",patience=2)"
      ],
      "execution_count": 14,
      "outputs": []
    },
    {
      "cell_type": "code",
      "metadata": {
        "colab": {
          "base_uri": "https://localhost:8080/"
        },
        "id": "8eu5CwNTbKY3",
        "outputId": "ea7394b0-aa60-407d-cebf-d6848415fb6b"
      },
      "source": [
        "model.fit(X_train,\n",
        "          y_cat_train,\n",
        "          epochs=15,\n",
        "          validation_data=(X_test,y_cat_test),\n",
        "          callbacks=[early_stop])"
      ],
      "execution_count": 15,
      "outputs": [
        {
          "output_type": "stream",
          "name": "stdout",
          "text": [
            "Epoch 1/15\n",
            "1563/1563 [==============================] - 63s 40ms/step - loss: 1.5034 - accuracy: 0.4592 - val_loss: 1.2941 - val_accuracy: 0.5359\n",
            "Epoch 2/15\n",
            "1563/1563 [==============================] - 62s 40ms/step - loss: 1.1648 - accuracy: 0.5884 - val_loss: 1.1179 - val_accuracy: 0.6158\n",
            "Epoch 3/15\n",
            "1563/1563 [==============================] - 61s 39ms/step - loss: 1.0168 - accuracy: 0.6436 - val_loss: 1.0001 - val_accuracy: 0.6475\n",
            "Epoch 4/15\n",
            "1563/1563 [==============================] - 61s 39ms/step - loss: 0.9106 - accuracy: 0.6821 - val_loss: 1.0032 - val_accuracy: 0.6487\n",
            "Epoch 5/15\n",
            "1563/1563 [==============================] - 61s 39ms/step - loss: 0.8203 - accuracy: 0.7150 - val_loss: 0.9776 - val_accuracy: 0.6671\n",
            "Epoch 6/15\n",
            "1563/1563 [==============================] - 61s 39ms/step - loss: 0.7431 - accuracy: 0.7410 - val_loss: 0.9585 - val_accuracy: 0.6765\n",
            "Epoch 7/15\n",
            "1563/1563 [==============================] - 61s 39ms/step - loss: 0.6745 - accuracy: 0.7656 - val_loss: 0.9452 - val_accuracy: 0.6838\n",
            "Epoch 8/15\n",
            "1563/1563 [==============================] - 61s 39ms/step - loss: 0.6082 - accuracy: 0.7892 - val_loss: 1.0531 - val_accuracy: 0.6663\n",
            "Epoch 9/15\n",
            "1563/1563 [==============================] - 61s 39ms/step - loss: 0.5427 - accuracy: 0.8101 - val_loss: 1.0405 - val_accuracy: 0.6740\n"
          ]
        },
        {
          "output_type": "execute_result",
          "data": {
            "text/plain": [
              "<keras.callbacks.History at 0x7f4b7f6ffb90>"
            ]
          },
          "metadata": {},
          "execution_count": 15
        }
      ]
    },
    {
      "cell_type": "code",
      "metadata": {
        "colab": {
          "base_uri": "https://localhost:8080/",
          "height": 326
        },
        "id": "IGK5YbSybOxT",
        "outputId": "d3d57cc2-0c40-463f-91bf-6006f9e3862a"
      },
      "source": [
        "metrics =pd.DataFrame(model.history.history)\n",
        "metrics"
      ],
      "execution_count": 16,
      "outputs": [
        {
          "output_type": "execute_result",
          "data": {
            "text/html": [
              "<div>\n",
              "<style scoped>\n",
              "    .dataframe tbody tr th:only-of-type {\n",
              "        vertical-align: middle;\n",
              "    }\n",
              "\n",
              "    .dataframe tbody tr th {\n",
              "        vertical-align: top;\n",
              "    }\n",
              "\n",
              "    .dataframe thead th {\n",
              "        text-align: right;\n",
              "    }\n",
              "</style>\n",
              "<table border=\"1\" class=\"dataframe\">\n",
              "  <thead>\n",
              "    <tr style=\"text-align: right;\">\n",
              "      <th></th>\n",
              "      <th>loss</th>\n",
              "      <th>accuracy</th>\n",
              "      <th>val_loss</th>\n",
              "      <th>val_accuracy</th>\n",
              "    </tr>\n",
              "  </thead>\n",
              "  <tbody>\n",
              "    <tr>\n",
              "      <th>0</th>\n",
              "      <td>1.503378</td>\n",
              "      <td>0.45924</td>\n",
              "      <td>1.294132</td>\n",
              "      <td>0.5359</td>\n",
              "    </tr>\n",
              "    <tr>\n",
              "      <th>1</th>\n",
              "      <td>1.164843</td>\n",
              "      <td>0.58836</td>\n",
              "      <td>1.117947</td>\n",
              "      <td>0.6158</td>\n",
              "    </tr>\n",
              "    <tr>\n",
              "      <th>2</th>\n",
              "      <td>1.016769</td>\n",
              "      <td>0.64362</td>\n",
              "      <td>1.000127</td>\n",
              "      <td>0.6475</td>\n",
              "    </tr>\n",
              "    <tr>\n",
              "      <th>3</th>\n",
              "      <td>0.910585</td>\n",
              "      <td>0.68206</td>\n",
              "      <td>1.003173</td>\n",
              "      <td>0.6487</td>\n",
              "    </tr>\n",
              "    <tr>\n",
              "      <th>4</th>\n",
              "      <td>0.820264</td>\n",
              "      <td>0.71500</td>\n",
              "      <td>0.977637</td>\n",
              "      <td>0.6671</td>\n",
              "    </tr>\n",
              "    <tr>\n",
              "      <th>5</th>\n",
              "      <td>0.743068</td>\n",
              "      <td>0.74104</td>\n",
              "      <td>0.958487</td>\n",
              "      <td>0.6765</td>\n",
              "    </tr>\n",
              "    <tr>\n",
              "      <th>6</th>\n",
              "      <td>0.674471</td>\n",
              "      <td>0.76564</td>\n",
              "      <td>0.945161</td>\n",
              "      <td>0.6838</td>\n",
              "    </tr>\n",
              "    <tr>\n",
              "      <th>7</th>\n",
              "      <td>0.608209</td>\n",
              "      <td>0.78924</td>\n",
              "      <td>1.053074</td>\n",
              "      <td>0.6663</td>\n",
              "    </tr>\n",
              "    <tr>\n",
              "      <th>8</th>\n",
              "      <td>0.542740</td>\n",
              "      <td>0.81008</td>\n",
              "      <td>1.040456</td>\n",
              "      <td>0.6740</td>\n",
              "    </tr>\n",
              "  </tbody>\n",
              "</table>\n",
              "</div>"
            ],
            "text/plain": [
              "       loss  accuracy  val_loss  val_accuracy\n",
              "0  1.503378   0.45924  1.294132        0.5359\n",
              "1  1.164843   0.58836  1.117947        0.6158\n",
              "2  1.016769   0.64362  1.000127        0.6475\n",
              "3  0.910585   0.68206  1.003173        0.6487\n",
              "4  0.820264   0.71500  0.977637        0.6671\n",
              "5  0.743068   0.74104  0.958487        0.6765\n",
              "6  0.674471   0.76564  0.945161        0.6838\n",
              "7  0.608209   0.78924  1.053074        0.6663\n",
              "8  0.542740   0.81008  1.040456        0.6740"
            ]
          },
          "metadata": {},
          "execution_count": 16
        }
      ]
    },
    {
      "cell_type": "code",
      "metadata": {
        "colab": {
          "base_uri": "https://localhost:8080/",
          "height": 282
        },
        "id": "w-3JwnBsbRUR",
        "outputId": "250014bf-3e0d-401d-9b5d-e65c6d90adfe"
      },
      "source": [
        "metrics[[\"loss\",\"val_loss\"]].plot()"
      ],
      "execution_count": 17,
      "outputs": [
        {
          "output_type": "execute_result",
          "data": {
            "text/plain": [
              "<matplotlib.axes._subplots.AxesSubplot at 0x7f4b7beb4450>"
            ]
          },
          "metadata": {},
          "execution_count": 17
        },
        {
          "output_type": "display_data",
          "data": {
            "image/png": "[encoded data removed]",
            "text/plain": [
              "<Figure size 432x288 with 1 Axes>"
            ]
          },
          "metadata": {
            "needs_background": "light"
          }
        }
      ]
    },
    {
      "cell_type": "code",
      "metadata": {
        "colab": {
          "base_uri": "https://localhost:8080/",
          "height": 282
        },
        "id": "Ymb-cKD6bUd0",
        "outputId": "156a4e82-ed42-4782-9516-350924c46038"
      },
      "source": [
        "metrics[[\"accuracy\",\"val_accuracy\"]].plot()"
      ],
      "execution_count": 18,
      "outputs": [
        {
          "output_type": "execute_result",
          "data": {
            "text/plain": [
              "<matplotlib.axes._subplots.AxesSubplot at 0x7f4b7be6a910>"
            ]
          },
          "metadata": {},
          "execution_count": 18
        },
        {
          "output_type": "display_data",
          "data": {
            "image/png": "[encoded data removed]",
            "text/plain": [
              "<Figure size 432x288 with 1 Axes>"
            ]
          },
          "metadata": {
            "needs_background": "light"
          }
        }
      ]
    },
    {
      "cell_type": "code",
      "metadata": {
        "colab": {
          "base_uri": "https://localhost:8080/"
        },
        "id": "hi9EeFzlbVg7",
        "outputId": "5dc66d90-a8d2-441b-bc9d-6064647ee85b"
      },
      "source": [
        "model.evaluate(X_test,y_cat_test)"
      ],
      "execution_count": 19,
      "outputs": [
        {
          "output_type": "stream",
          "name": "stdout",
          "text": [
            "313/313 [==============================] - 3s 11ms/step - loss: 1.0405 - accuracy: 0.6740\n"
          ]
        },
        {
          "output_type": "execute_result",
          "data": {
            "text/plain": [
              "[1.040455937385559, 0.6740000247955322]"
            ]
          },
          "metadata": {},
          "execution_count": 19
        }
      ]
    },
    {
      "cell_type": "code",
      "metadata": {
        "id": "TLuyLhtsdxTi"
      },
      "source": [
        "from sklearn.metrics import confusion_matrix\n",
        "from sklearn.metrics import classification_report\n",
        "predictions =model.predict(X_test)"
      ],
      "execution_count": 20,
      "outputs": []
    },
    {
      "cell_type": "code",
      "metadata": {
        "colab": {
          "base_uri": "https://localhost:8080/"
        },
        "id": "6PyFKhYUd0O2",
        "outputId": "9c00be38-0579-4ae1-cae9-fc0c9b9e1094"
      },
      "source": [
        "import tensorflow as tf\n",
        "predictions=tf.round(predictions)\n",
        "predictions[:10]\n",
        "print(classification_report(y_cat_test,predictions))"
      ],
      "execution_count": 21,
      "outputs": [
        {
          "output_type": "stream",
          "name": "stdout",
          "text": [
            "              precision    recall  f1-score   support\n",
            "\n",
            "           0       0.79      0.62      0.70      1000\n",
            "           1       0.84      0.75      0.79      1000\n",
            "           2       0.67      0.42      0.52      1000\n",
            "           3       0.55      0.43      0.48      1000\n",
            "           4       0.71      0.56      0.63      1000\n",
            "           5       0.64      0.47      0.54      1000\n",
            "           6       0.79      0.74      0.76      1000\n",
            "           7       0.74      0.74      0.74      1000\n",
            "           8       0.85      0.71      0.77      1000\n",
            "           9       0.72      0.79      0.75      1000\n",
            "\n",
            "   micro avg       0.73      0.62      0.67     10000\n",
            "   macro avg       0.73      0.62      0.67     10000\n",
            "weighted avg       0.73      0.62      0.67     10000\n",
            " samples avg       0.62      0.62      0.62     10000\n",
            "\n"
          ]
        },
        {
          "output_type": "stream",
          "name": "stderr",
          "text": [
            "/usr/local/lib/python3.7/dist-packages/sklearn/metrics/_classification.py:1272: UndefinedMetricWarning: Precision and F-score are ill-defined and being set to 0.0 in samples with no predicted labels. Use `zero_division` parameter to control this behavior.\n",
            "  _warn_prf(average, modifier, msg_start, len(result))\n"
          ]
        }
      ]
    },
    {
      "cell_type": "code",
      "metadata": {
        "colab": {
          "base_uri": "https://localhost:8080/",
          "height": 445
        },
        "id": "l1ngI-bcd7r1",
        "outputId": "1e14d909-34a0-4d57-84bc-355f218510c4"
      },
      "source": [
        "\n",
        "import seaborn as sns\n",
        "rounded_labels=np.argmax(predictions, axis=1)\n",
        "plt.figure(figsize=(10,7))\n",
        "sns.heatmap(confusion_matrix(y_test,rounded_labels))"
      ],
      "execution_count": 22,
      "outputs": [
        {
          "output_type": "execute_result",
          "data": {
            "text/plain": [
              "<matplotlib.axes._subplots.AxesSubplot at 0x7f4b7872d190>"
            ]
          },
          "metadata": {},
          "execution_count": 22
        },
        {
          "output_type": "display_data",
          "data": {
            "image/png": "[encoded data removed]",
            "text/plain": [
              "<Figure size 720x504 with 2 Axes>"
            ]
          },
          "metadata": {
            "needs_background": "light"
          }
        }
      ]
    },
    {
      "cell_type": "code",
      "metadata": {
        "colab": {
          "base_uri": "https://localhost:8080/",
          "height": 283
        },
        "id": "iAVvJYmmevbH",
        "outputId": "6cad733d-e5ca-4c0f-8277-a2bfffcb9ded"
      },
      "source": [
        "my_image=X_test[0]\n",
        "plt.imshow(my_image.reshape(32,32,3))"
      ],
      "execution_count": 25,
      "outputs": [
        {
          "output_type": "execute_result",
          "data": {
            "text/plain": [
              "<matplotlib.image.AxesImage at 0x7f4b67973e90>"
            ]
          },
          "metadata": {},
          "execution_count": 25
        },
        {
          "output_type": "display_data",
          "data": {
            "image/png": "[encoded data removed]",
            "text/plain": [
              "<Figure size 432x288 with 1 Axes>"
            ]
          },
          "metadata": {
            "needs_background": "light"
          }
        }
      ]
    },
    {
      "cell_type": "code",
      "metadata": {
        "colab": {
          "base_uri": "https://localhost:8080/"
        },
        "id": "T7xqFG8Ve3RE",
        "outputId": "fd5f66c2-4305-42f1-e7e9-d976cd12126d"
      },
      "source": [
        "predcit=model.predict(my_image.reshape(1,32,32,3))\n",
        "predict=tf.round(predcit)\n",
        "import numpy as np\n",
        "rounded_labels=np.argmax(predict, axis=1)\n",
        "rounded_labels"
      ],
      "execution_count": 26,
      "outputs": [
        {
          "output_type": "execute_result",
          "data": {
            "text/plain": [
              "array([3])"
            ]
          },
          "metadata": {},
          "execution_count": 26
        }
      ]
    }
  ]
}