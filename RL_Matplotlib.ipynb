{
  "nbformat": 4,
  "nbformat_minor": 0,
  "metadata": {
    "colab": {
      "name": "RL_Matplotlib.ipynb",
      "provenance": []
    },
    "kernelspec": {
      "name": "python3",
      "display_name": "Python 3"
    },
    "language_info": {
      "name": "python"
    }
  },
  "cells": [
    {
      "cell_type": "code",
      "metadata": {
        "id": "UkdkCxbd2Xot"
      },
      "source": [
        "import numpy as np\n",
        "import matplotlib.pyplot as plt\n"
      ],
      "execution_count": 19,
      "outputs": []
    },
    {
      "cell_type": "code",
      "metadata": {
        "colab": {
          "base_uri": "https://localhost:8080/"
        },
        "id": "fJ1OiFvq6ZDL",
        "outputId": "959ef994-71d3-48ea-a379-0cd82b52a3bd"
      },
      "source": [
        "x=np.arange(0,10)\n",
        "y=np.arange(0,30,3)\n",
        "x,y"
      ],
      "execution_count": 26,
      "outputs": [
        {
          "output_type": "execute_result",
          "data": {
            "text/plain": [
              "(array([0, 1, 2, 3, 4, 5, 6, 7, 8, 9]),\n",
              " array([ 0,  3,  6,  9, 12, 15, 18, 21, 24, 27]))"
            ]
          },
          "metadata": {},
          "execution_count": 26
        }
      ]
    },
    {
      "cell_type": "code",
      "metadata": {
        "colab": {
          "base_uri": "https://localhost:8080/",
          "height": 295
        },
        "id": "IhgpVGgQ_GpP",
        "outputId": "e84ece95-19f0-45d6-d5c4-436ac56a4dfc"
      },
      "source": [
        "plt.plot(x,y)\n",
        "plt.xlabel(\"X Axis\")\n",
        "plt.ylabel(\"Y Axis\")\n",
        "plt.xlim(0,10)\n",
        "plt.ylim(0,30)\n",
        "plt.title(\"String Title\")\n",
        "plt.savefig(\"my_first_plot.png\")"
      ],
      "execution_count": 31,
      "outputs": [
        {
          "output_type": "display_data",
          "data": {
            "image/png": "[encoded data removed]",
            "text/plain": [
              "<Figure size 432x288 with 1 Axes>"
            ]
          },
          "metadata": {
            "needs_background": "light"
          }
        }
      ]
    },
    {
      "cell_type": "code",
      "metadata": {
        "id": "wiAxy2T1_VtP"
      },
      "source": [
        " "
      ],
      "execution_count": 21,
      "outputs": []
    }
  ]
}